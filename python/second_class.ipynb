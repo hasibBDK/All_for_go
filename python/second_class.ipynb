{
 "cells": [
  {
   "cell_type": "code",
   "execution_count": 1,
   "id": "e14cbd24",
   "metadata": {},
   "outputs": [
    {
     "name": "stdout",
     "output_type": "stream",
     "text": [
      "day 2\n"
     ]
    }
   ],
   "source": [
    "print(\"day 2\")"
   ]
  },
  {
   "cell_type": "code",
   "execution_count": 3,
   "id": "a77a920e",
   "metadata": {},
   "outputs": [
    {
     "name": "stdout",
     "output_type": "stream",
     "text": [
      "print the value of a = 10\n"
     ]
    }
   ],
   "source": [
    "#if else part\n",
    "a = 10\n",
    "if a>=9:\n",
    "    print(f\"print the value of a = {a}\")\n",
    "else:\n",
    "    print(\"a is less than 9\")    "
   ]
  },
  {
   "cell_type": "code",
   "execution_count": null,
   "id": "3d23e56a",
   "metadata": {},
   "outputs": [
    {
     "name": "stdout",
     "output_type": "stream",
     "text": [
      "cons is 5\n"
     ]
    }
   ],
   "source": [
    "cons = 5\n",
    "if cons == 5:\n",
    "    print(\"cons is 5\")\n",
    "else:\n",
    "    print(\"cons is not 5\")    "
   ]
  },
  {
   "cell_type": "code",
   "execution_count": 10,
   "id": "c444099d",
   "metadata": {},
   "outputs": [
    {
     "name": "stdout",
     "output_type": "stream",
     "text": [
      "cons is not 5\n"
     ]
    }
   ],
   "source": [
    "cons = input()\n",
    "if cons == 5:\n",
    "    print(\"cons is 5\")\n",
    "else:\n",
    "    print(\"cons is not 5\")  "
   ]
  },
  {
   "cell_type": "code",
   "execution_count": 15,
   "id": "0cf920c1",
   "metadata": {},
   "outputs": [
    {
     "name": "stdout",
     "output_type": "stream",
     "text": [
      "Lower Case\n"
     ]
    }
   ],
   "source": [
    "letter = input()\n",
    "if letter>= 'a' and letter<= 'z':\n",
    "    print(\"Lower Case\")\n",
    "else:\n",
    "    print(\"Upper Case\")"
   ]
  },
  {
   "cell_type": "code",
   "execution_count": 18,
   "id": "88dd262d",
   "metadata": {},
   "outputs": [
    {
     "name": "stdout",
     "output_type": "stream",
     "text": [
      "Nothing\n"
     ]
    }
   ],
   "source": [
    "letter = input()\n",
    "if letter>= 'a' and letter<= 'z':\n",
    "    print(\"Lower Case\")\n",
    "elif letter>='A' and letter<='Z':\n",
    "    print(\"Uppercase\")\n",
    "else:\n",
    "    print(\"Nothing\")"
   ]
  },
  {
   "cell_type": "code",
   "execution_count": null,
   "id": "dd8e2963",
   "metadata": {},
   "outputs": [
    {
     "name": "stdout",
     "output_type": "stream",
     "text": [
      "1\n",
      "2\n",
      "3\n",
      "4\n",
      "5\n",
      "6\n",
      "7\n",
      "8\n",
      "9\n",
      "10\n"
     ]
    }
   ],
   "source": [
    "n = 1\n",
    "for k in range(1,11):\n",
    "    print(k)"
   ]
  },
  {
   "cell_type": "code",
   "execution_count": 29,
   "id": "7795ba0c",
   "metadata": {},
   "outputs": [],
   "source": [
    "def add_two_numbers(a,b):\n",
    "    p = (a * b)**2\n",
    "    return p"
   ]
  },
  {
   "cell_type": "code",
   "execution_count": 30,
   "id": "1ef005c9",
   "metadata": {},
   "outputs": [
    {
     "name": "stdout",
     "output_type": "stream",
     "text": [
      "36\n"
     ]
    }
   ],
   "source": [
    "k = add_two_numbers(2,3)\n",
    "print(k)"
   ]
  },
  {
   "cell_type": "code",
   "execution_count": 33,
   "id": "9f3ce98a",
   "metadata": {},
   "outputs": [
    {
     "name": "stdout",
     "output_type": "stream",
     "text": [
      "Hello world this is hasib. I am gonna show the world that i am unstopable and my Allah always with mime.\n"
     ]
    }
   ],
   "source": [
    "my_file = open(\"test.txt\", \"r\")\n",
    "print(my_file.read())\n",
    "my_file.close()"
   ]
  },
  {
   "cell_type": "code",
   "execution_count": 34,
   "id": "817d3a66",
   "metadata": {},
   "outputs": [
    {
     "name": "stdout",
     "output_type": "stream",
     "text": [
      "Hello world this is hasib. I am gonna show the world that i am unstopable and my Allah always with mime.So i will work hard untill i can rech my goal\n"
     ]
    }
   ],
   "source": [
    "my_file = open(\"test.txt\", \"a\")\n",
    "my_file.write(\"So i will work hard untill i can rech my goal\")\n",
    "my_file.close()\n",
    "my_file = open (\"test.txt\",\"r\")\n",
    "print(my_file.read())"
   ]
  },
  {
   "cell_type": "code",
   "execution_count": 43,
   "id": "85fd6d7b",
   "metadata": {},
   "outputs": [],
   "source": [
    "#Object oriented programming\n",
    "class Car:\n",
    "    def motion(self,x):\n",
    "        print(f\"motion of this car is\",x)\n",
    "    def colur(self):\n",
    "        print(\"The colour of this car is Red\")\n",
    "    def price(self,pr):\n",
    "        print(f\"the price of this class is\",pr)"
   ]
  },
  {
   "cell_type": "code",
   "execution_count": 44,
   "id": "176a9f47",
   "metadata": {},
   "outputs": [
    {
     "name": "stdout",
     "output_type": "stream",
     "text": [
      "motion of this car is 30\n",
      "The colour of this car is Red\n",
      "the price of this class is 100000000\n"
     ]
    }
   ],
   "source": [
    "fun = Car()\n",
    "fun.motion(30)\n",
    "fun.colur()\n",
    "fun.price(100000000)"
   ]
  },
  {
   "cell_type": "code",
   "execution_count": 1,
   "id": "c3725bb4",
   "metadata": {},
   "outputs": [
    {
     "name": "stdout",
     "output_type": "stream",
     "text": [
      "This is the end of day 2\n"
     ]
    }
   ],
   "source": [
    "print(\"This is the end of day 2\")"
   ]
  }
 ],
 "metadata": {
  "kernelspec": {
   "display_name": "Python 3",
   "language": "python",
   "name": "python3"
  },
  "language_info": {
   "codemirror_mode": {
    "name": "ipython",
    "version": 3
   },
   "file_extension": ".py",
   "mimetype": "text/x-python",
   "name": "python",
   "nbconvert_exporter": "python",
   "pygments_lexer": "ipython3",
   "version": "3.13.3"
  }
 },
 "nbformat": 4,
 "nbformat_minor": 5
}
